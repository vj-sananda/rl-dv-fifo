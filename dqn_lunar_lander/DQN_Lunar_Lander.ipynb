{
 "cells": [
  {
   "cell_type": "markdown",
   "metadata": {},
   "source": [
    "# Deep Q-Network (DQN)\n",
    "---"
   ]
  },
  {
   "cell_type": "code",
   "execution_count": 9,
   "metadata": {},
   "outputs": [],
   "source": [
    "# pip install gym\n",
    "# pip install torch torchvision\n",
    "# pip install BOX2D"
   ]
  },
  {
   "cell_type": "markdown",
   "metadata": {},
   "source": [
    "### 1. Import the Necessary Packages"
   ]
  },
  {
   "cell_type": "code",
   "execution_count": 10,
   "metadata": {},
   "outputs": [],
   "source": [
    "import gym\n",
    "import random\n",
    "import torch\n",
    "import numpy as np\n",
    "from collections import deque\n",
    "import matplotlib.pyplot as plt\n",
    "import pdb\n",
    "%matplotlib inline"
   ]
  },
  {
   "cell_type": "markdown",
   "metadata": {},
   "source": [
    "### 2. Instantiate the Environment and Agent\n",
    "\n",
    "Initialize the environment in the code cell below."
   ]
  },
  {
   "cell_type": "code",
   "execution_count": 11,
   "metadata": {},
   "outputs": [
    {
     "name": "stdout",
     "output_type": "stream",
     "text": [
      "State shape:  (8,)\n",
      "Number of actions:  4\n"
     ]
    }
   ],
   "source": [
    "from dqn_agent import Agent\n",
    "env = gym.make('LunarLander-v2')\n",
    "env.seed(0)\n",
    "print('State shape: ', env.observation_space.shape)\n",
    "print('Number of actions: ', env.action_space.n)"
   ]
  },
  {
   "cell_type": "markdown",
   "metadata": {},
   "source": [
    "### Random Agent"
   ]
  },
  {
   "cell_type": "code",
   "execution_count": 12,
   "metadata": {},
   "outputs": [
    {
     "name": "stdout",
     "output_type": "stream",
     "text": [
      "Total Reward = 103\n",
      "Total Reward = 101\n",
      "Total Reward = 71\n",
      "Total Reward = 67\n"
     ]
    }
   ],
   "source": [
    "agent = Agent(state_size=8, action_size=4, seed=0)\n",
    "\n",
    "for i in range(4):\n",
    "    # watch an untrained agent\n",
    "    state = env.reset()\n",
    "    total_reward = 0\n",
    "    for j in range(200):\n",
    "        #action = agent.act(state)\n",
    "        action = np.random.choice(np.arange(env.action_space.n))\n",
    "        env.render()\n",
    "        state, reward, done, _ = env.step(action)\n",
    "        total_reward += 1\n",
    "        #print(\"action:{} state:{}, reward:{}, done:{}\".format(action,state,reward,done))\n",
    "        if done:\n",
    "            print(\"Total Reward = {}\".format(total_reward))\n",
    "            break \n",
    "        \n",
    "#env.close()"
   ]
  },
  {
   "cell_type": "code",
   "execution_count": 13,
   "metadata": {},
   "outputs": [],
   "source": [
    "def heuristic(env, s):\n",
    "    \"\"\"\n",
    "    The heuristic for\n",
    "    1. Testing\n",
    "    2. Demonstration rollout.\n",
    "\n",
    "    Args:\n",
    "        env: The environment\n",
    "        s (list): The state. Attributes:\n",
    "                  s[0] is the horizontal coordinate\n",
    "                  s[1] is the vertical coordinate\n",
    "                  s[2] is the horizontal speed\n",
    "                  s[3] is the vertical speed\n",
    "                  s[4] is the angle\n",
    "                  s[5] is the angular speed\n",
    "                  s[6] 1 if first leg has contact, else 0\n",
    "                  s[7] 1 if second leg has contact, else 0\n",
    "    returns:\n",
    "         a: The heuristic to be fed into the step function defined above to determine the next step and reward.\n",
    "    \"\"\"\n",
    "\n",
    "    angle_targ = s[0]*0.5 + s[2]*1.0         # angle should point towards center\n",
    "    if angle_targ > 0.4: angle_targ = 0.4    # more than 0.4 radians (22 degrees) is bad\n",
    "    if angle_targ < -0.4: angle_targ = -0.4\n",
    "    hover_targ = 0.55*np.abs(s[0])           # target y should be proportional to horizontal offset\n",
    "\n",
    "    angle_todo = (angle_targ - s[4]) * 0.5 - (s[5])*1.0\n",
    "    hover_todo = (hover_targ - s[1])*0.5 - (s[3])*0.5\n",
    "\n",
    "    if s[6] or s[7]:  # legs have contact\n",
    "        angle_todo = 0\n",
    "        hover_todo = -(s[3])*0.5  # override to reduce fall speed, that's all we need after contact\n",
    "\n",
    "    if env.continuous:\n",
    "        a = np.array([hover_todo*20 - 1, -angle_todo*20])\n",
    "        a = np.clip(a, -1, +1)\n",
    "    else:\n",
    "        a = 0\n",
    "        if hover_todo > np.abs(angle_todo) and hover_todo > 0.05: a = 2\n",
    "        elif angle_todo < -0.05: a = 3\n",
    "        elif angle_todo > +0.05: a = 1\n",
    "    return a"
   ]
  },
  {
   "cell_type": "markdown",
   "metadata": {},
   "source": [
    "### Agent using Heuristic policy (using state information on speed, coordinates)"
   ]
  },
  {
   "cell_type": "code",
   "execution_count": 14,
   "metadata": {},
   "outputs": [
    {
     "name": "stdout",
     "output_type": "stream",
     "text": [
      "Total Reward = 193\n",
      "Total Reward = 190\n"
     ]
    }
   ],
   "source": [
    "agent = Agent(state_size=8, action_size=4, seed=0)\n",
    "for i in range(6):\n",
    "    state = env.reset()\n",
    "    total_reward = 0\n",
    "    for j in range(200):\n",
    "        action = heuristic(env,state)\n",
    "        env.render()\n",
    "        state, reward, done, _ = env.step(action)\n",
    "        total_reward += 1\n",
    "        #print(\"action:{} state:{}, reward:{}, done:{}\".format(action,state,reward,done))\n",
    "        if done:\n",
    "            print(\"Total Reward = {}\".format(total_reward))\n",
    "            break \n",
    "        \n",
    "#env.close()"
   ]
  },
  {
   "cell_type": "markdown",
   "metadata": {},
   "source": [
    "### 3. Train the Agent with DQN"
   ]
  },
  {
   "cell_type": "code",
   "execution_count": 6,
   "metadata": {},
   "outputs": [
    {
     "name": "stdout",
     "output_type": "stream",
     "text": [
      "Episode 100\tAverage Score: -195.04\n",
      "Episode 200\tAverage Score: -100.22\n",
      "Episode 300\tAverage Score: -27.607\n",
      "Episode 400\tAverage Score: -19.83\n",
      "Episode 500\tAverage Score: 51.005\n",
      "Episode 600\tAverage Score: 68.79\n",
      "Episode 700\tAverage Score: 98.737\n",
      "Episode 800\tAverage Score: 125.06\n",
      "Episode 900\tAverage Score: 193.46\n",
      "Episode 918\tAverage Score: 200.90\n",
      "Environment solved in 818 episodes!\tAverage Score: 200.90\n"
     ]
    },
    {
     "data": {
      "image/png": "[encoded data removed]",
      "text/plain": [
       "<Figure size 432x288 with 1 Axes>"
      ]
     },
     "metadata": {
      "needs_background": "light"
     },
     "output_type": "display_data"
    }
   ],
   "source": [
    "def dqn(n_episodes=2000, max_t=1000, eps_start=1.0, eps_end=0.01, eps_decay=0.995):\n",
    "    \"\"\"Deep Q-Learning.\n",
    "    \n",
    "    Params\n",
    "    ======\n",
    "        n_episodes (int): maximum number of training episodes\n",
    "        max_t (int): maximum number of timesteps per episode\n",
    "        eps_start (float): starting value of epsilon, for epsilon-greedy action selection\n",
    "        eps_end (float): minimum value of epsilon\n",
    "        eps_decay (float): multiplicative factor (per episode) for decreasing epsilon\n",
    "    \"\"\"\n",
    "    scores = []                        # list containing scores from each episode\n",
    "    scores_window = deque(maxlen=100)  # last 100 scores\n",
    "    eps = eps_start                    # initialize epsilon\n",
    "    for i_episode in range(1, n_episodes+1):\n",
    "        state = env.reset()\n",
    "        score = 0\n",
    "        for t in range(max_t):\n",
    "            action = agent.act(state, eps)\n",
    "            next_state, reward, done, _ = env.step(action)\n",
    "            agent.step(state, action, reward, next_state, done)\n",
    "            state = next_state\n",
    "            score += reward\n",
    "            if done:\n",
    "                break \n",
    "        scores_window.append(score)       # save most recent score\n",
    "        scores.append(score)              # save most recent score\n",
    "        eps = max(eps_end, eps_decay*eps) # decrease epsilon\n",
    "        print('\\rEpisode {}\\tAverage Score: {:.2f}'.format(i_episode, np.mean(scores_window)), end=\"\")\n",
    "        if i_episode % 100 == 0:\n",
    "            print('\\rEpisode {}\\tAverage Score: {:.2f}'.format(i_episode, np.mean(scores_window)))\n",
    "        if np.mean(scores_window)>=200.0:\n",
    "            print('\\nEnvironment solved in {:d} episodes!\\tAverage Score: {:.2f}'.format(i_episode-100, np.mean(scores_window)))\n",
    "            torch.save(agent.qnetwork_local.state_dict(), 'checkpoint.pth')\n",
    "            break\n",
    "    return scores\n",
    "\n",
    "scores = dqn()\n",
    "\n",
    "# plot the scores\n",
    "fig = plt.figure()\n",
    "ax = fig.add_subplot(111)\n",
    "plt.plot(np.arange(len(scores)), scores)\n",
    "plt.ylabel('Score')\n",
    "plt.xlabel('Episode #')\n",
    "plt.show()"
   ]
  },
  {
   "cell_type": "markdown",
   "metadata": {},
   "source": [
    "### Trained Agent\n",
    "\n",
    "Load the trained weights from file to watch a trained Agent"
   ]
  },
  {
   "cell_type": "code",
   "execution_count": 15,
   "metadata": {},
   "outputs": [
    {
     "name": "stdout",
     "output_type": "stream",
     "text": [
      "Total Reward = -64.04164987844759\n",
      "Total Reward = 255.56757306350718\n",
      "Total Reward = 202.31829568338628\n",
      "Total Reward = 223.71078635689489\n",
      "Total Reward = 250.64643937062027\n",
      "Total Reward = 76.42582415745422\n"
     ]
    }
   ],
   "source": [
    "# load the weights from file\n",
    "agent.qnetwork_local.load_state_dict(torch.load('checkpoint.pth'))\n",
    "\n",
    "for i in range(6):\n",
    "    state = env.reset()\n",
    "    total_reward = 0\n",
    "    for j in range(2000):\n",
    "        action = agent.act(state)\n",
    "        env.render()\n",
    "        state, reward, done, _ = env.step(action)\n",
    "        total_reward += reward\n",
    "        if done:\n",
    "            print(\"Total Reward = {}\".format(total_reward))\n",
    "            break \n",
    "            \n",
    "#env.close()"
   ]
  },
  {
   "cell_type": "code",
   "execution_count": 8,
   "metadata": {},
   "outputs": [],
   "source": [
    "env.close()"
   ]
  }
 ],
 "metadata": {
  "anaconda-cloud": {},
  "kernelspec": {
   "display_name": "Python 3",
   "language": "python",
   "name": "python3"
  },
  "language_info": {
   "codemirror_mode": {
    "name": "ipython",
    "version": 3
   },
   "file_extension": ".py",
   "mimetype": "text/x-python",
   "name": "python",
   "nbconvert_exporter": "python",
   "pygments_lexer": "ipython3",
   "version": "3.8.5"
  }
 },
 "nbformat": 4,
 "nbformat_minor": 2
}
